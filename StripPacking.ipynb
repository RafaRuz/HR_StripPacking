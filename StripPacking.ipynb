{
 "cells": [
  {
   "cell_type": "markdown",
   "metadata": {},
   "source": [
    "# Entrada al algoritmo"
   ]
  },
  {
   "cell_type": "markdown",
   "metadata": {},
   "source": [
    "- object_list = [(1,2), (2,2), (1,1), (3,2)]\n",
    "- frequencies_list = [5, 10, 10, 15]\n",
    "- width = 20"
   ]
  },
  {
   "cell_type": "markdown",
   "metadata": {},
   "source": [
    "# Preprocesamiento"
   ]
  },
  {
   "cell_type": "markdown",
   "metadata": {},
   "source": [
    "- rectangles_list = [Rectangle(p[0],p[1]) for p in object_list]"
   ]
  },
  {
   "cell_type": "markdown",
   "metadata": {},
   "source": [
    "# Ejemplo de salida"
   ]
  },
  {
   "cell_type": "markdown",
   "metadata": {},
   "source": [
    "- positions_list = [(0,0),(3,0),...]\n",
    "- order_list = [3,2,1,3,3,2,1,1,1,1,2]"
   ]
  },
  {
   "cell_type": "markdown",
   "metadata": {},
   "source": [
    "# Imports"
   ]
  },
  {
   "cell_type": "code",
   "execution_count": 35,
   "metadata": {},
   "outputs": [
    {
     "name": "stdout",
     "output_type": "stream",
     "text": [
      "The memory_profiler extension is already loaded. To reload it, use:\n",
      "  %reload_ext memory_profiler\n"
     ]
    }
   ],
   "source": [
    "%load_ext memory_profiler\n",
    "\n",
    "# %matplotlib notebook\n",
    "%matplotlib tk\n",
    "import matplotlib.pyplot as plt\n",
    "import matplotlib.animation\n",
    "import matplotlib.patches as patches\n",
    "import numpy as np"
   ]
  },
  {
   "cell_type": "markdown",
   "metadata": {},
   "source": [
    "# Recursive Packing\n",
    "\n",
    "Esta función se encarga de encasillar rectangulos en espacios acotados.\n",
    "\n",
    "Parámetros de entrada:\n",
    "- **S2**: Rectángulo acotado\n",
    "- **rectangles_list**: Lista de *Rectangles* a distribuir ordenados por área decreciente\n",
    "\n",
    "Funciones auxiliares:\n",
    "- **fits**: Comprueba si algún rectángulo cabe en *S2*. Devuelve su posición en tal caso y *None* en otro.\n",
    "\n",
    "pack(S2,) -> coloca el rectangulo pasado por entrada en el espacio acotado S. Devuelve el espacio no usado para colocar el rectangulo S, este espacio seran dos subespacios acotados S3 y S4\n"
   ]
  },
  {
   "cell_type": "code",
   "execution_count": 36,
   "metadata": {},
   "outputs": [],
   "source": [
    "class Rectangle:\n",
    "    def __init__(self, width, height, x=None, y=None):\n",
    "        self.width = width\n",
    "        self.height = height\n",
    "        self.area = width*height\n",
    "        self.x = x\n",
    "        self.y = y\n",
    "        \n",
    "    def __lt__(self, other):\n",
    "        return self.area < other.area\n",
    "    \n",
    "    def __str__(self):\n",
    "        return \"Coordinates: ({}, {})\\tShape: ({}, {})\\t Area:{}\".format(self.x, self.y, self.width, self.height, self.area)"
   ]
  },
  {
   "cell_type": "code",
   "execution_count": 37,
   "metadata": {},
   "outputs": [],
   "source": [
    "def recursive_packing(S2):\n",
    "    valid_rectangle_position = fits(S2)\n",
    "    \n",
    "    if valid_rectangle_position == None:\n",
    "        return\n",
    "    else:\n",
    "        S3, S4 = pack(S2, valid_rectangle_position)\n",
    "        \n",
    "        if S3.area > S4.area:\n",
    "            recursive_packing(S3)\n",
    "            \n",
    "            if(S4.area > 0):\n",
    "                recursive_packing(S4)\n",
    "        else:\n",
    "            recursive_packing(S4)\n",
    "            \n",
    "            if(S3.area > 0):\n",
    "                recursive_packing(S3)\n",
    "        "
   ]
  },
  {
   "cell_type": "code",
   "execution_count": 38,
   "metadata": {},
   "outputs": [],
   "source": [
    "def fits(s):\n",
    "    for i, r in enumerate(rectangles_list):\n",
    "        if r.width <= s.width and r.height <= s.height and frequencies_list[i] > 0:\n",
    "            return i"
   ]
  },
  {
   "cell_type": "code",
   "execution_count": 39,
   "metadata": {},
   "outputs": [],
   "source": [
    "def pack(S2, valid_rectangle_position):\n",
    "    R = rectangles_list[valid_rectangle_position]\n",
    "    \n",
    "    S3 = Rectangle(        R.width     , S2.height - R.height,      S2.x      , S2.y + R.height )\n",
    "    S4 = Rectangle( S2.width - R.width ,       S2.height     , S2.x + R.width ,      S2.y       )\n",
    "    \n",
    "    output.append(Rectangle(R.width, R.height, S2.x, S2.y))\n",
    "    frequencies_list[valid_rectangle_position] -= 1\n",
    "        \n",
    "    return S3, S4"
   ]
  },
  {
   "cell_type": "markdown",
   "metadata": {},
   "source": [
    "# Ejemplo Recursive Packing"
   ]
  },
  {
   "cell_type": "code",
   "execution_count": 40,
   "metadata": {},
   "outputs": [],
   "source": [
    "# width = 10\n",
    "# height = 15\n",
    "\n",
    "# object_list = [(1,2), (2,2), (1,1), (3,2)]\n",
    "# frequencies_list = [5, 10, 10, 15]\n",
    "\n",
    "# output = []\n",
    "# rectangles_list = [Rectangle(p[0],p[1]) for p in object_list]\n",
    "# rectangles_list = sorted(rectangles_list, reverse=True)\n",
    "\n",
    "\n",
    "\n",
    "# Strip = Rectangle(width, height, 0, 0)\n",
    "\n",
    "# # print(Strip)\n",
    "\n",
    "# # print(\"Rectangles list:\")\n",
    "# # for r in rectangles_list:\n",
    "# #     print(r)\n",
    "    \n",
    "# # print(\"Rectangles list sorted by area:\")\n",
    "# # for r in sorted(rectangles_list, reverse=True):\n",
    "# #     print(r)\n",
    "    \n",
    "# recursive_packing(Strip)\n",
    "\n",
    "# # for r in output:\n",
    "# #     print(r)"
   ]
  },
  {
   "cell_type": "code",
   "execution_count": 41,
   "metadata": {},
   "outputs": [],
   "source": [
    "# %matplotlib notebook\n",
    "# import matplotlib.pyplot as plt\n",
    "# import matplotlib.animation\n",
    "# import matplotlib.patches as patches\n",
    "# import numpy as np\n",
    "\n",
    "# def animate(i):\n",
    "#     x = output[i].x\n",
    "#     y = output[i].y\n",
    "#     w = output[i].width\n",
    "#     h = output[i].height\n",
    "\n",
    "#     r = patches.Rectangle((x, y), w, h, linewidth=1, edgecolor='b', facecolor='r', fill=True)\n",
    "\n",
    "#     ax.add_patch(r)\n",
    "#     rx, ry = r.get_xy()\n",
    "#     cx = rx + r.get_width()/2.0\n",
    "#     cy = ry + r.get_height()/2.0\n",
    "#     ax.annotate('A', (cx, cy), color='w', weight='bold', fontsize=6, ha='center', va='center')\n",
    "\n",
    "# def plot():\n",
    "#     fig, ax = plt.subplots(figsize=(5,5))\n",
    "#     ax.set_xlim([0, width])\n",
    "#     ax.set_ylim([0, height])\n",
    "\n",
    "#     ani = matplotlib.animation.FuncAnimation(fig, animate, frames=len(output), interval=200)"
   ]
  },
  {
   "cell_type": "markdown",
   "metadata": {},
   "source": [
    "# Packing"
   ]
  },
  {
   "cell_type": "code",
   "execution_count": 42,
   "metadata": {},
   "outputs": [],
   "source": [
    "def pack_unbounded(S, rectangle_to_pack_position):\n",
    "    R = rectangles_list[rectangle_to_pack_position]\n",
    "    \n",
    "    S1 = Rectangle(        S.width    ,   np.inf  ,      S.x      , S.y + R.height )\n",
    "    S2 = Rectangle( S.width - R.width , R.height , S.x + R.width ,      S.y       )\n",
    "    \n",
    "    output.append(Rectangle(R.width, R.height, S.x, S.y))\n",
    "    frequencies_list[rectangle_to_pack_position] -= 1\n",
    "        \n",
    "    return S1, S2"
   ]
  },
  {
   "cell_type": "code",
   "execution_count": 43,
   "metadata": {},
   "outputs": [],
   "source": [
    "def first_non_zero(l):\n",
    "    for i, item in enumerate(l):\n",
    "        if(item > 0):\n",
    "            return i"
   ]
  },
  {
   "cell_type": "code",
   "execution_count": 44,
   "metadata": {},
   "outputs": [],
   "source": [
    "def packing(S):\n",
    "    height = 0\n",
    "    \n",
    "    while np.any(frequencies_list):\n",
    "        pos = first_non_zero(frequencies_list)\n",
    "        S1, S2 = pack_unbounded(S, pos)\n",
    "        height += rectangles_list[pos].height\n",
    "        \n",
    "        S = S1\n",
    "        \n",
    "        recursive_packing(S2)\n",
    "        \n",
    "    return height"
   ]
  },
  {
   "cell_type": "markdown",
   "metadata": {},
   "source": [
    "# Ejemplo packing"
   ]
  },
  {
   "cell_type": "code",
   "execution_count": 12,
   "metadata": {},
   "outputs": [],
   "source": [
    "width = 10\n",
    "height = 15\n",
    "\n",
    "object_list = [(1,2), (2,2), (1,1), (3,2)]\n",
    "frequencies_list = [5, 10, 10, 15]\n",
    "\n",
    "output = []\n",
    "rectangles_list = [Rectangle(p[0], p[1]) for p in object_list]\n",
    "rectangles_list = sorted(rectangles_list, reverse=True)\n",
    "\n",
    "\n",
    "\n",
    "Strip = Rectangle(width, np.inf, 0, 0)\n",
    "\n",
    "    \n",
    "packing(Strip)\n",
    "\n",
    "# for r in output:\n",
    "#     print(r)"
   ]
  },
  {
   "cell_type": "code",
   "execution_count": 13,
   "metadata": {},
   "outputs": [],
   "source": [
    "fig, ax = plt.subplots(figsize=(5,5))\n",
    "ax.set_xlim([0, width])\n",
    "ax.set_ylim([0, height])\n",
    "\n",
    "def animate(i):\n",
    "    x = output[i].x\n",
    "    y = output[i].y\n",
    "    w = output[i].width\n",
    "    h = output[i].height\n",
    "\n",
    "    r = patches.Rectangle((x, y), w, h, linewidth=1, edgecolor='b', facecolor='r', fill=True)\n",
    "\n",
    "    ax.add_patch(r)\n",
    "    rx, ry = r.get_xy()\n",
    "    cx = rx + r.get_width()/2.0\n",
    "    cy = ry + r.get_height()/2.0\n",
    "    ax.annotate('A', (cx, cy), color='w', weight='bold', fontsize=6, ha='center', va='center')\n",
    "\n",
    "ani = matplotlib.animation.FuncAnimation(fig, animate, frames=len(output), interval=200)"
   ]
  },
  {
   "cell_type": "markdown",
   "metadata": {},
   "source": [
    "# Test con dataset de prueba"
   ]
  },
  {
   "cell_type": "code",
   "execution_count": 14,
   "metadata": {},
   "outputs": [
    {
     "name": "stdout",
     "output_type": "stream",
     "text": [
      "The memory_profiler extension is already loaded. To reload it, use:\n",
      "  %reload_ext memory_profiler\n",
      "400\n",
      "50\n",
      "Wall time: 44.9 ms\n"
     ]
    }
   ],
   "source": [
    "%load_ext memory_profiler\n",
    "\n",
    "with open('data\\\\data\\\\data-changed\\\\CX\\\\50.txt') as f:\n",
    "    line = f.readline().split(' ')\n",
    "    width = int(line[0])\n",
    "    \n",
    "    n = int(f.readline().split(' ')[0])\n",
    "    \n",
    "    print(width)\n",
    "    print(n)\n",
    "    \n",
    "    rectangles_list = []\n",
    "    frequencies_list = []\n",
    "    output = []\n",
    "    \n",
    "    for i in range(n):\n",
    "        line = f.readline().split('\\t')\n",
    "        rectangles_list.append(Rectangle(int(line[0]), int(line[1])))\n",
    "        frequencies_list.append(100)\n",
    "        \n",
    "        Strip = Rectangle(width, np.inf, 0, 0)\n",
    "        \n",
    "    rectangles_list = sorted(rectangles_list, reverse=True)\n",
    "        \n",
    "    %time final_height = packing(Strip)"
   ]
  },
  {
   "cell_type": "code",
   "execution_count": 15,
   "metadata": {},
   "outputs": [],
   "source": [
    "fig, ax = plt.subplots(figsize=(5,5))\n",
    "ax.set_xlim([0, width])\n",
    "ax.set_ylim([0, final_height])\n",
    "\n",
    "def animate(i):\n",
    "    x = output[i].x\n",
    "    y = output[i].y\n",
    "    w = output[i].width\n",
    "    h = output[i].height\n",
    "\n",
    "    r = patches.Rectangle((x, y), w, h, linewidth=1, edgecolor='b', facecolor='r', fill=True)\n",
    "\n",
    "    ax.add_patch(r)\n",
    "    rx, ry = r.get_xy()\n",
    "    cx = rx + r.get_width()/2.0\n",
    "    cy = ry + r.get_height()/2.0\n",
    "#     ax.annotate('A', (cx, cy), color='w', weight='bold', fontsize=6, ha='center', va='center')\n",
    "\n",
    "ani = matplotlib.animation.FuncAnimation(fig, animate, frames=len(output), interval=10)"
   ]
  },
  {
   "cell_type": "markdown",
   "metadata": {},
   "source": [
    "# Ejemplo inventado"
   ]
  },
  {
   "cell_type": "code",
   "execution_count": 1,
   "metadata": {},
   "outputs": [
    {
     "ename": "NameError",
     "evalue": "name 'np' is not defined",
     "output_type": "error",
     "traceback": [
      "\u001b[1;31m---------------------------------------------------------------------------\u001b[0m",
      "\u001b[1;31mNameError\u001b[0m                                 Traceback (most recent call last)",
      "\u001b[1;32m<ipython-input-1-a6d144b7e358>\u001b[0m in \u001b[0;36m<module>\u001b[1;34m\u001b[0m\n\u001b[0;32m     10\u001b[0m \u001b[1;33m\u001b[0m\u001b[0m\n\u001b[0;32m     11\u001b[0m \u001b[1;32mfor\u001b[0m \u001b[0mi\u001b[0m \u001b[1;32min\u001b[0m \u001b[0mrange\u001b[0m\u001b[1;33m(\u001b[0m\u001b[0mn\u001b[0m\u001b[1;33m)\u001b[0m\u001b[1;33m:\u001b[0m\u001b[1;33m\u001b[0m\u001b[1;33m\u001b[0m\u001b[0m\n\u001b[1;32m---> 12\u001b[1;33m     \u001b[0mw\u001b[0m \u001b[1;33m=\u001b[0m \u001b[0mnp\u001b[0m\u001b[1;33m.\u001b[0m\u001b[0mrandom\u001b[0m\u001b[1;33m.\u001b[0m\u001b[0mrandint\u001b[0m\u001b[1;33m(\u001b[0m\u001b[1;36m1\u001b[0m\u001b[1;33m,\u001b[0m\u001b[1;36m16\u001b[0m\u001b[1;33m)\u001b[0m\u001b[1;33m\u001b[0m\u001b[1;33m\u001b[0m\u001b[0m\n\u001b[0m\u001b[0;32m     13\u001b[0m     \u001b[0mh\u001b[0m \u001b[1;33m=\u001b[0m \u001b[0mnp\u001b[0m\u001b[1;33m.\u001b[0m\u001b[0mrandom\u001b[0m\u001b[1;33m.\u001b[0m\u001b[0mrandint\u001b[0m\u001b[1;33m(\u001b[0m\u001b[1;36m1\u001b[0m\u001b[1;33m,\u001b[0m\u001b[1;36m16\u001b[0m\u001b[1;33m)\u001b[0m\u001b[1;33m\u001b[0m\u001b[1;33m\u001b[0m\u001b[0m\n\u001b[0;32m     14\u001b[0m     \u001b[0mrectangles_list\u001b[0m\u001b[1;33m.\u001b[0m\u001b[0mappend\u001b[0m\u001b[1;33m(\u001b[0m\u001b[0mRectangle\u001b[0m\u001b[1;33m(\u001b[0m\u001b[0mw\u001b[0m\u001b[1;33m,\u001b[0m \u001b[0mh\u001b[0m\u001b[1;33m)\u001b[0m\u001b[1;33m)\u001b[0m\u001b[1;33m\u001b[0m\u001b[1;33m\u001b[0m\u001b[0m\n",
      "\u001b[1;31mNameError\u001b[0m: name 'np' is not defined"
     ]
    }
   ],
   "source": [
    "%load_ext memory_profiler\n",
    "\n",
    "width = 50\n",
    "\n",
    "n = 20\n",
    "\n",
    "rectangles_list = []\n",
    "frequencies_list = []\n",
    "output = []\n",
    "\n",
    "for i in range(n):\n",
    "    w = np.random.randint(1,16)\n",
    "    h = np.random.randint(1,16)\n",
    "    rectangles_list.append(Rectangle(w, h))\n",
    "    frequencies_list.append(np.random.randint(100000))\n",
    "\n",
    "    Strip = Rectangle(width, np.inf, 0, 0)\n",
    "    \n",
    "# for r in rectangles_list:\n",
    "#     print(r)\n",
    "    \n",
    "print(frequencies_list)\n",
    "\n",
    "rectangles_list = sorted(rectangles_list, reverse=True)\n",
    "\n",
    "%time final_height = packing(Strip)"
   ]
  },
  {
   "cell_type": "code",
   "execution_count": 17,
   "metadata": {
    "scrolled": true
   },
   "outputs": [],
   "source": [
    "fig, ax = plt.subplots(figsize=(5,5))\n",
    "ax.set_xlim([0, width])\n",
    "ax.set_ylim([0, 1000])\n",
    "\n",
    "def animate(i):\n",
    "    x = output[i].x\n",
    "    y = output[i].y\n",
    "    w = output[i].width\n",
    "    h = output[i].height\n",
    "\n",
    "    r = patches.Rectangle((x, y), w, h, linewidth=1, edgecolor='b', facecolor='r', fill=True)\n",
    "\n",
    "    ax.add_patch(r)\n",
    "    rx, ry = r.get_xy()\n",
    "    cx = rx + r.get_width()/2.0\n",
    "    cy = ry + r.get_height()/2.0\n",
    "#     ax.annotate('A', (cx, cy), color='w', weight='bold', fontsize=6, ha='center', va='center')\n",
    "\n",
    "ani = matplotlib.animation.FuncAnimation(fig, animate, frames=len(output), interval=10)"
   ]
  },
  {
   "cell_type": "code",
   "execution_count": 18,
   "metadata": {},
   "outputs": [],
   "source": [
    "# fig, ax = plt.subplots(figsize=(5,5))\n",
    "# ax.set_xlim([0, width])\n",
    "# ax.set_ylim([0, final_height])\n",
    "\n",
    "# for i, r in enumerate(output):\n",
    "#     x = output[i].x\n",
    "#     y = output[i].y\n",
    "#     w = output[i].width\n",
    "#     h = output[i].height\n",
    "\n",
    "#     r = patches.Rectangle((x, y), w, h, linewidth=1, edgecolor='b', facecolor='r', fill=True)\n",
    "#     ax.add_patch(r)\n",
    "    \n",
    "# plt.show()"
   ]
  },
  {
   "cell_type": "markdown",
   "metadata": {},
   "source": [
    "# Otro ejemplo"
   ]
  },
  {
   "cell_type": "code",
   "execution_count": 33,
   "metadata": {},
   "outputs": [],
   "source": [
    "def total_waste(rectangles_list, total_width, total_height):\n",
    "    filled_area = 0\n",
    "    \n",
    "    for r in rectangles_list:\n",
    "        filled_area += r.area\n",
    "        \n",
    "    return total_width*total_height - filled_area\n",
    "            "
   ]
  },
  {
   "cell_type": "code",
   "execution_count": 53,
   "metadata": {},
   "outputs": [
    {
     "name": "stdout",
     "output_type": "stream",
     "text": [
      "Wall time: 1.03 s\n",
      "Total area: 625280\n",
      "Total waste: 10880\n",
      "Percentage wasted: 1.7400204708290685\n"
     ]
    }
   ],
   "source": [
    "filled_area = 0\n",
    "final_height = 0\n",
    "    \n",
    "with open('data\\\\data\\\\data\\\\2004.Burke.n\\\\n\\\\n13.txt') as f:\n",
    "    line = f.readline().split(' ')\n",
    "    width = int(line[0])\n",
    "    \n",
    "    n = int(f.readline().split(' ')[0])\n",
    "    \n",
    "    rectangles_list = []\n",
    "    frequencies_list = []\n",
    "    output = []\n",
    "    \n",
    "    for i in range(n):\n",
    "        line = f.readline().split(' ')\n",
    "        rectangles_list.append(Rectangle(int(line[0]), int(line[1])))\n",
    "        frequencies_list.append(1)\n",
    "        \n",
    "        Strip = Rectangle(width, np.inf, 0, 0)\n",
    "        \n",
    "    rectangles_list = sorted(rectangles_list, reverse=True)\n",
    "        \n",
    "    %time final_height = packing(Strip)\n",
    "    \n",
    "    print(\"Total area: {}\".format(width*final_height))\n",
    "    print(\"Total waste: {}\".format(total_waste(output, width, final_height)))\n",
    "    print(\"Percentage wasted: {}\".format(total_waste(output, width, final_height)/(width*final_height)*100))"
   ]
  },
  {
   "cell_type": "code",
   "execution_count": null,
   "metadata": {},
   "outputs": [],
   "source": [
    "filled_area = 0\n",
    "final_height = 0\n",
    "    \n",
    "with open('data\\\\data\\\\data\\\\2004.Burke.n\\\\n\\\\nlist.txt') as f:\n",
    "    line = f.readline().split(' ')\n",
    "    width = int(line[0])\n",
    "    \n",
    "    n = int(f.readline().split(' ')[0])\n",
    "    \n",
    "    rectangles_list = []\n",
    "    frequencies_list = []\n",
    "    output = []\n",
    "    \n",
    "    for i in range(n):\n",
    "        line = f.readline().split(' ')\n",
    "        rectangles_list.append(Rectangle(int(line[0]), int(line[1])))\n",
    "        frequencies_list.append(1)\n",
    "        \n",
    "        Strip = Rectangle(width, np.inf, 0, 0)\n",
    "        \n",
    "    rectangles_list = sorted(rectangles_list, reverse=True)\n",
    "        \n",
    "    %time final_height = packing(Strip)\n",
    "    \n",
    "    print(\"Total area: {}\".format(width*final_height))\n",
    "    print(\"Total waste: {}\".format(total_waste(output, width, final_height)))\n",
    "    print(\"Percentage wasted: {}\".format(total_waste(output, width, final_height)/(width*final_height)*100))"
   ]
  }
 ],
 "metadata": {
  "kernelspec": {
   "display_name": "Python 3",
   "language": "python",
   "name": "python3"
  },
  "language_info": {
   "codemirror_mode": {
    "name": "ipython",
    "version": 3
   },
   "file_extension": ".py",
   "mimetype": "text/x-python",
   "name": "python",
   "nbconvert_exporter": "python",
   "pygments_lexer": "ipython3",
   "version": "3.7.4"
  }
 },
 "nbformat": 4,
 "nbformat_minor": 2
}
