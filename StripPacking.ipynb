{
 "cells": [
  {
   "cell_type": "markdown",
   "metadata": {},
   "source": [
    "# Recursive Packing\n",
    "\n",
    "Esta función se encagar de encasillar rectangulos en espacios acotados.\n",
    "\n",
    "Entrada: S2 -> rectangulo acotado\n",
    "\n",
    "Entra -> función que comprueba que rectángulos entran en el espacio s2 acotado. Devuelve true si alguno entra y false si ninguno entra.\n",
    "\n",
    "$ En caso de entrar, no sería mejor pasar solo los que entran para que no los vuelva a comprobar?\n",
    "\n",
    "Nota: lista contiene a todos los rectángulos a empaquetar. Deberá estar ordenada por orden decreciente de area de rectángulos.\n",
    "\n",
    "Coloca(rectangulo,S) -> coloca el rectangulo pasado por entrada en el espacio acotado S. Devuelve el espacio no usado para colocar el rectangulo S, este espacio seran dos subespacios acotados S3 y S4\n"
   ]
  },
  {
   "cell_type": "code",
   "execution_count": 1,
   "metadata": {},
   "outputs": [],
   "source": [
    "class Rectangulo:\n",
    "  def __init__(self, base, altura):\n",
    "    self.base = base\n",
    "    self.altura = altura\n",
    "    self.area = base*altura\n",
    "    "
   ]
  },
  {
   "cell_type": "code",
   "execution_count": null,
   "metadata": {},
   "outputs": [],
   "source": [
    "def RecursivePacking(S2):\n",
    "    if !Entra(S2, lista_rectangulos):\n",
    "        return\n",
    "    else:\n",
    "        S3,S4 = Coloca(S2,lista_rectangulos[0])\n",
    "        \n",
    "        if S3.area > S4.area:\n",
    "            RecursivePacking(S3)\n",
    "            RecursivePacking(S4)\n",
    "        else:\n",
    "            RecursivePacking(S4)\n",
    "            RecursivePacking(S3)\n",
    "        "
   ]
  },
  {
   "cell_type": "code",
   "execution_count": 3,
   "metadata": {},
   "outputs": [
    {
     "name": "stdout",
     "output_type": "stream",
     "text": [
      "8\n"
     ]
    }
   ],
   "source": [
    "def Entra(s, lista_rectangulos):\n",
    "    for rectangulo in lista_rectangulos:\n",
    "        if rectangulo.area < s.area:\n",
    "            return true\n",
    "    return false\n"
   ]
  },
  {
   "cell_type": "code",
   "execution_count": null,
   "metadata": {},
   "outputs": [],
   "source": [
    "def Coloca(S2, R):\n",
    "    med1 = S2.base - R.base\n",
    "    med2 = S2.altura - R.altura\n",
    "    \n",
    "    if(med1 < R.altura):\n",
    "        base = med1\n",
    "        altura = R.altura\n",
    "        S3 = Rectangulo(base, altura)\n",
    "    else:\n",
    "        base = R.altura\n",
    "        altura = med1\n",
    "        S3 = Rectangulo(med1, R.altura)\n",
    "    S4 = Rectangulo()\n",
    "    \n",
    "    \n",
    "    \n",
    "    \n",
    "    "
   ]
  }
 ],
 "metadata": {
  "kernelspec": {
   "display_name": "Python 3",
   "language": "python",
   "name": "python3"
  },
  "language_info": {
   "codemirror_mode": {
    "name": "ipython",
    "version": 3
   },
   "file_extension": ".py",
   "mimetype": "text/x-python",
   "name": "python",
   "nbconvert_exporter": "python",
   "pygments_lexer": "ipython3",
   "version": "3.7.4"
  }
 },
 "nbformat": 4,
 "nbformat_minor": 2
}
