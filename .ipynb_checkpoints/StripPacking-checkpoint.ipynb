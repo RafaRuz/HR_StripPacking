{
 "cells": [
  {
   "cell_type": "markdown",
   "metadata": {},
   "source": [
    "# Entrada al algoritmo"
   ]
  },
  {
   "cell_type": "code",
   "execution_count": 1,
   "metadata": {},
   "outputs": [],
   "source": [
    "object_list = [(1,2), (2,2), (1,1), (3,2)]\n",
    "frequencies_list = [5, 10, 10, 15]\n",
    "width = 20"
   ]
  },
  {
   "cell_type": "markdown",
   "metadata": {},
   "source": [
    "# Preprocesamiento"
   ]
  },
  {
   "cell_type": "markdown",
   "metadata": {},
   "source": [
    "rectangles_list = [Rectangle(p[0],p[1]) for p in object_list]"
   ]
  },
  {
   "cell_type": "markdown",
   "metadata": {},
   "source": [
    "# Ejemplo de salida"
   ]
  },
  {
   "cell_type": "markdown",
   "metadata": {},
   "source": [
    "- positions_list = [(0,0),(3,0),...]\n",
    "- order_list = [3,2,1,3,3,2,1,1,1,1,2]"
   ]
  },
  {
   "cell_type": "markdown",
   "metadata": {},
   "source": [
    "# Imports"
   ]
  },
  {
   "cell_type": "code",
   "execution_count": 2,
   "metadata": {},
   "outputs": [],
   "source": [
    "%load_ext memory_profiler\n",
    "\n",
    "# %matplotlib notebook\n",
    "%matplotlib tk\n",
    "import matplotlib.pyplot as plt\n",
    "import matplotlib.animation\n",
    "import matplotlib.patches as patches\n",
    "import numpy as np"
   ]
  },
  {
   "cell_type": "markdown",
   "metadata": {},
   "source": [
    "# Recursive Packing\n",
    "\n",
    "Esta función se encagar de encasillar rectangulos en espacios acotados.\n",
    "\n",
    "Entrada: S2 -> rectangulo acotado\n",
    "\n",
    "Entra -> función que comprueba que rectángulos entran en el espacio s2 acotado. Devuelve true si alguno entra y false si ninguno entra.\n",
    "\n",
    "$ En caso de entrar, no sería mejor pasar solo los que entran para que no los vuelva a comprobar?\n",
    "\n",
    "Nota: lista contiene a todos los rectángulos a empaquetar. Deberá estar ordenada por orden decreciente de area de rectángulos.\n",
    "\n",
    "Coloca(rectangulo,S) -> coloca el rectangulo pasado por entrada en el espacio acotado S. Devuelve el espacio no usado para colocar el rectangulo S, este espacio seran dos subespacios acotados S3 y S4\n"
   ]
  },
  {
   "cell_type": "code",
   "execution_count": 3,
   "metadata": {},
   "outputs": [],
   "source": [
    "class Rectangle:\n",
    "    def __init__(self, width, height, x=None, y=None):\n",
    "        self.width = width\n",
    "        self.height = height\n",
    "        self.area = width*height\n",
    "        self.x = x\n",
    "        self.y = y\n",
    "        \n",
    "    def __lt__(self, other):\n",
    "        return self.area < other.area\n",
    "    \n",
    "    def __str__(self):\n",
    "        return \"Coordinates: ({}, {})\\tShape: ({}, {})\\t Area:{}\".format(self.x, self.y, self.width, self.height, self.area)"
   ]
  },
  {
   "cell_type": "code",
   "execution_count": 4,
   "metadata": {},
   "outputs": [],
   "source": [
    "def recursive_packing(S2):\n",
    "    valid_rectangle_position = fits(S2)\n",
    "    \n",
    "    if valid_rectangle_position == None:\n",
    "        return\n",
    "    else:\n",
    "        S3, S4 = pack(S2, valid_rectangle_position)\n",
    "        \n",
    "        if S3.area > S4.area:\n",
    "            recursive_packing(S3)\n",
    "            \n",
    "            if(S4.area > 0):\n",
    "                recursive_packing(S4)\n",
    "        else:\n",
    "            recursive_packing(S4)\n",
    "            \n",
    "            if(S3.area > 0):\n",
    "                recursive_packing(S3)\n",
    "        "
   ]
  },
  {
   "cell_type": "code",
   "execution_count": 5,
   "metadata": {},
   "outputs": [],
   "source": [
    "def fits(s):\n",
    "    for i, r in enumerate(rectangles_list):\n",
    "        if r.width <= s.width and r.height <= s.height and frequencies_list[i] > 0:\n",
    "            return i"
   ]
  },
  {
   "cell_type": "code",
   "execution_count": 6,
   "metadata": {},
   "outputs": [],
   "source": [
    "def pack(S2, valid_rectangle_position):\n",
    "    R = rectangles_list[valid_rectangle_position]\n",
    "    \n",
    "    S3 = Rectangle(        R.width     , S2.height - R.height,      S2.x      , S2.y + R.height )\n",
    "    S4 = Rectangle( S2.width - R.width ,       S2.height     , S2.x + R.width ,      S2.y       )\n",
    "    \n",
    "    output.append(Rectangle(R.width, R.height, S2.x, S2.y))\n",
    "    frequencies_list[valid_rectangle_position] -= 1\n",
    "        \n",
    "    return S3, S4"
   ]
  },
  {
   "cell_type": "markdown",
   "metadata": {},
   "source": [
    "# Testeo Recursive Packing"
   ]
  },
  {
   "cell_type": "code",
   "execution_count": 7,
   "metadata": {},
   "outputs": [],
   "source": [
    "# width = 10\n",
    "# height = 15\n",
    "\n",
    "# object_list = [(1,2), (2,2), (1,1), (3,2)]\n",
    "# frequencies_list = [5, 10, 10, 15]\n",
    "\n",
    "# output = []\n",
    "# rectangles_list = [Rectangle(p[0],p[1]) for p in object_list]\n",
    "# rectangles_list = sorted(rectangles_list, reverse=True)\n",
    "\n",
    "\n",
    "\n",
    "# Strip = Rectangle(width, height, 0, 0)\n",
    "\n",
    "# # print(Strip)\n",
    "\n",
    "# # print(\"Rectangles list:\")\n",
    "# # for r in rectangles_list:\n",
    "# #     print(r)\n",
    "    \n",
    "# # print(\"Rectangles list sorted by area:\")\n",
    "# # for r in sorted(rectangles_list, reverse=True):\n",
    "# #     print(r)\n",
    "    \n",
    "# recursive_packing(Strip)\n",
    "\n",
    "# # for r in output:\n",
    "# #     print(r)"
   ]
  },
  {
   "cell_type": "code",
   "execution_count": 8,
   "metadata": {},
   "outputs": [],
   "source": [
    "# %matplotlib notebook\n",
    "# import matplotlib.pyplot as plt\n",
    "# import matplotlib.animation\n",
    "# import matplotlib.patches as patches\n",
    "# import numpy as np\n",
    "\n",
    "# def animate(i):\n",
    "#     x = output[i].x\n",
    "#     y = output[i].y\n",
    "#     w = output[i].width\n",
    "#     h = output[i].height\n",
    "\n",
    "#     r = patches.Rectangle((x, y), w, h, linewidth=1, edgecolor='b', facecolor='r', fill=True)\n",
    "\n",
    "#     ax.add_patch(r)\n",
    "#     rx, ry = r.get_xy()\n",
    "#     cx = rx + r.get_width()/2.0\n",
    "#     cy = ry + r.get_height()/2.0\n",
    "#     ax.annotate('A', (cx, cy), color='w', weight='bold', fontsize=6, ha='center', va='center')\n",
    "\n",
    "# def plot():\n",
    "#     fig, ax = plt.subplots(figsize=(5,5))\n",
    "#     ax.set_xlim([0, width])\n",
    "#     ax.set_ylim([0, height])\n",
    "\n",
    "#     ani = matplotlib.animation.FuncAnimation(fig, animate, frames=len(output), interval=200)"
   ]
  },
  {
   "cell_type": "markdown",
   "metadata": {},
   "source": [
    "# Packing"
   ]
  },
  {
   "cell_type": "code",
   "execution_count": 9,
   "metadata": {},
   "outputs": [],
   "source": [
    "def pack_unbounded(S, rectangle_to_pack_position):\n",
    "    R = rectangles_list[rectangle_to_pack_position]\n",
    "    \n",
    "    S1 = Rectangle(        S.width    ,   np.inf  ,      S.x      , S.y + R.height )\n",
    "    S2 = Rectangle( S.width - R.width , R.height , S.x + R.width ,      S.y       )\n",
    "    \n",
    "    output.append(Rectangle(R.width, R.height, S.x, S.y))\n",
    "    frequencies_list[rectangle_to_pack_position] -= 1\n",
    "        \n",
    "    return S1, S2"
   ]
  },
  {
   "cell_type": "code",
   "execution_count": 10,
   "metadata": {},
   "outputs": [],
   "source": [
    "def first_non_zero(l):\n",
    "    for i, item in enumerate(l):\n",
    "        if(item > 0):\n",
    "            return i"
   ]
  },
  {
   "cell_type": "code",
   "execution_count": 11,
   "metadata": {},
   "outputs": [],
   "source": [
    "def packing(S):\n",
    "    height = 0\n",
    "    \n",
    "    while np.any(frequencies_list):\n",
    "        pos = first_non_zero(frequencies_list)\n",
    "        S1, S2 = pack_unbounded(S, pos)\n",
    "        height += rectangles_list[pos].height\n",
    "        \n",
    "        S = S1\n",
    "        \n",
    "        recursive_packing(S2)\n",
    "        \n",
    "    return height"
   ]
  },
  {
   "cell_type": "code",
   "execution_count": 12,
   "metadata": {},
   "outputs": [],
   "source": [
    "# width = 10\n",
    "# height = 15\n",
    "\n",
    "# object_list = [(1,2), (2,2), (1,1), (3,2)]\n",
    "# frequencies_list = [5, 10, 10, 15]\n",
    "\n",
    "# output = []\n",
    "# rectangles_list = [Rectangle(p[0], p[1]) for p in object_list]\n",
    "# rectangles_list = sorted(rectangles_list, reverse=True)\n",
    "\n",
    "\n",
    "\n",
    "# Strip = Rectangle(width, np.inf, 0, 0)\n",
    "\n",
    "    \n",
    "# packing(Strip)\n",
    "\n",
    "# # for r in output:\n",
    "# #     print(r)"
   ]
  },
  {
   "cell_type": "code",
   "execution_count": 13,
   "metadata": {},
   "outputs": [],
   "source": [
    "# fig, ax = plt.subplots(figsize=(5,5))\n",
    "# ax.set_xlim([0, width])\n",
    "# ax.set_ylim([0, height])\n",
    "\n",
    "# def animate(i):\n",
    "#     x = output[i].x\n",
    "#     y = output[i].y\n",
    "#     w = output[i].width\n",
    "#     h = output[i].height\n",
    "\n",
    "#     r = patches.Rectangle((x, y), w, h, linewidth=1, edgecolor='b', facecolor='r', fill=True)\n",
    "\n",
    "#     ax.add_patch(r)\n",
    "#     rx, ry = r.get_xy()\n",
    "#     cx = rx + r.get_width()/2.0\n",
    "#     cy = ry + r.get_height()/2.0\n",
    "#     ax.annotate('A', (cx, cy), color='w', weight='bold', fontsize=6, ha='center', va='center')\n",
    "\n",
    "# ani = matplotlib.animation.FuncAnimation(fig, animate, frames=len(output), interval=200)"
   ]
  },
  {
   "cell_type": "markdown",
   "metadata": {},
   "source": [
    "# The real test"
   ]
  },
  {
   "cell_type": "code",
   "execution_count": 14,
   "metadata": {},
   "outputs": [
    {
     "name": "stdout",
     "output_type": "stream",
     "text": [
      "The memory_profiler extension is already loaded. To reload it, use:\n",
      "  %reload_ext memory_profiler\n",
      "400\n",
      "50\n",
      "Wall time: 44.9 ms\n"
     ]
    }
   ],
   "source": [
    "%load_ext memory_profiler\n",
    "\n",
    "with open('data\\\\data\\\\data-changed\\\\CX\\\\50.txt') as f:\n",
    "    line = f.readline().split(' ')\n",
    "    width = int(line[0])\n",
    "    \n",
    "    n = int(f.readline().split(' ')[0])\n",
    "    \n",
    "    print(width)\n",
    "    print(n)\n",
    "    \n",
    "    rectangles_list = []\n",
    "    frequencies_list = []\n",
    "    output = []\n",
    "    \n",
    "    for i in range(n):\n",
    "        line = f.readline().split('\\t')\n",
    "        rectangles_list.append(Rectangle(int(line[0]), int(line[1])))\n",
    "        frequencies_list.append(100)\n",
    "        \n",
    "        Strip = Rectangle(width, np.inf, 0, 0)\n",
    "        \n",
    "    rectangles_list = sorted(rectangles_list, reverse=True)\n",
    "        \n",
    "    %time final_height = packing(Strip)"
   ]
  },
  {
   "cell_type": "code",
   "execution_count": 15,
   "metadata": {},
   "outputs": [],
   "source": [
    "fig, ax = plt.subplots(figsize=(5,5))\n",
    "ax.set_xlim([0, width])\n",
    "ax.set_ylim([0, final_height])\n",
    "\n",
    "def animate(i):\n",
    "    x = output[i].x\n",
    "    y = output[i].y\n",
    "    w = output[i].width\n",
    "    h = output[i].height\n",
    "\n",
    "    r = patches.Rectangle((x, y), w, h, linewidth=1, edgecolor='b', facecolor='r', fill=True)\n",
    "\n",
    "    ax.add_patch(r)\n",
    "    rx, ry = r.get_xy()\n",
    "    cx = rx + r.get_width()/2.0\n",
    "    cy = ry + r.get_height()/2.0\n",
    "#     ax.annotate('A', (cx, cy), color='w', weight='bold', fontsize=6, ha='center', va='center')\n",
    "\n",
    "ani = matplotlib.animation.FuncAnimation(fig, animate, frames=len(output), interval=10)"
   ]
  },
  {
   "cell_type": "markdown",
   "metadata": {},
   "source": [
    "# Ejemplo inventado"
   ]
  },
  {
   "cell_type": "code",
   "execution_count": 16,
   "metadata": {},
   "outputs": [
    {
     "name": "stdout",
     "output_type": "stream",
     "text": [
      "The memory_profiler extension is already loaded. To reload it, use:\n",
      "  %reload_ext memory_profiler\n",
      "Wall time: 6.2 s\n"
     ]
    }
   ],
   "source": [
    "%load_ext memory_profiler\n",
    "\n",
    "width = 50\n",
    "\n",
    "n = 20\n",
    "\n",
    "rectangles_list = []\n",
    "frequencies_list = []\n",
    "output = []\n",
    "\n",
    "for i in range(n):\n",
    "    w = np.random.randint(1,16)\n",
    "    h = np.random.randint(1,16)\n",
    "    rectangles_list.append(Rectangle(w, h))\n",
    "    frequencies_list.append(np.random.randint(100000))\n",
    "\n",
    "    Strip = Rectangle(width, np.inf, 0, 0)\n",
    "    \n",
    "# for r in rectangles_list:\n",
    "#     print(r)\n",
    "    \n",
    "# print(frequencies_list)\n",
    "\n",
    "rectangles_list = sorted(rectangles_list, reverse=True)\n",
    "\n",
    "%time final_height = packing(Strip)"
   ]
  },
  {
   "cell_type": "code",
   "execution_count": 17,
   "metadata": {
    "scrolled": true
   },
   "outputs": [],
   "source": [
    "fig, ax = plt.subplots(figsize=(5,5))\n",
    "ax.set_xlim([0, width])\n",
    "ax.set_ylim([0, 1000])\n",
    "\n",
    "def animate(i):\n",
    "    x = output[i].x\n",
    "    y = output[i].y\n",
    "    w = output[i].width\n",
    "    h = output[i].height\n",
    "\n",
    "    r = patches.Rectangle((x, y), w, h, linewidth=1, edgecolor='b', facecolor='r', fill=True)\n",
    "\n",
    "    ax.add_patch(r)\n",
    "    rx, ry = r.get_xy()\n",
    "    cx = rx + r.get_width()/2.0\n",
    "    cy = ry + r.get_height()/2.0\n",
    "#     ax.annotate('A', (cx, cy), color='w', weight='bold', fontsize=6, ha='center', va='center')\n",
    "\n",
    "ani = matplotlib.animation.FuncAnimation(fig, animate, frames=len(output), interval=10)"
   ]
  },
  {
   "cell_type": "code",
   "execution_count": 18,
   "metadata": {},
   "outputs": [],
   "source": [
    "# fig, ax = plt.subplots(figsize=(5,5))\n",
    "# ax.set_xlim([0, width])\n",
    "# ax.set_ylim([0, final_height])\n",
    "\n",
    "# for i, r in enumerate(output):\n",
    "#     x = output[i].x\n",
    "#     y = output[i].y\n",
    "#     w = output[i].width\n",
    "#     h = output[i].height\n",
    "\n",
    "#     r = patches.Rectangle((x, y), w, h, linewidth=1, edgecolor='b', facecolor='r', fill=True)\n",
    "#     ax.add_patch(r)\n",
    "    \n",
    "# plt.show()"
   ]
  }
 ],
 "metadata": {
  "kernelspec": {
   "display_name": "Python 3",
   "language": "python",
   "name": "python3"
  },
  "language_info": {
   "codemirror_mode": {
    "name": "ipython",
    "version": 3
   },
   "file_extension": ".py",
   "mimetype": "text/x-python",
   "name": "python",
   "nbconvert_exporter": "python",
   "pygments_lexer": "ipython3",
   "version": "3.7.4"
  }
 },
 "nbformat": 4,
 "nbformat_minor": 2
}
