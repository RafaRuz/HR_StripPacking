{
 "cells": [
  {
   "cell_type": "markdown",
   "metadata": {},
   "source": [
    "# Parámetros de entrada"
   ]
  },
  {
   "cell_type": "code",
   "execution_count": null,
   "metadata": {},
   "outputs": [],
   "source": [
    "width = 15\n",
    "objects_dims = [(2,1), (2,2), (4,1), (2,4), (1,1)] \n",
    "objects_frequencies = [10, 10, 10, 10, 10]"
   ]
  },
  {
   "cell_type": "code",
   "execution_count": null,
   "metadata": {},
   "outputs": [],
   "source": [
    "# %pylab \n",
    "\n",
    "%matplotlib notebook\n",
    "import matplotlib.pyplot as plt\n",
    "import matplotlib.animation\n",
    "import matplotlib.patches as patches\n",
    "import numpy as np"
   ]
  },
  {
   "cell_type": "code",
   "execution_count": null,
   "metadata": {},
   "outputs": [],
   "source": [
    "object_pos = [(0,0), (1,0), (2,0), (4,4), (4,0)] \n",
    "\n",
    "current_height = 15\n",
    "\n",
    "fig, ax = plt.subplots(figsize=(5,5))\n",
    "ax.set_xlim([0, width])\n",
    "ax.set_ylim([0, current_height])\n",
    "\n",
    "def animate(i):\n",
    "    r = patches.Rectangle((object_pos[i][0],object_pos[i][1]), \\\n",
    "                                    objects_dims[i][0], objects_dims[i][0], \\\n",
    "                                    linewidth=1, edgecolor='b', facecolor='r', fill=True)\n",
    "    ax.add_patch(r)\n",
    "    rx, ry = r.get_xy()\n",
    "    cx = rx + r.get_width()/2.0\n",
    "    cy = ry + r.get_height()/2.0\n",
    "    ax.annotate('rect', (cx, cy), color='w', weight='bold', fontsize=6, ha='center', va='center')\n",
    "#     ax.add_patch(patches.Rectangle((i,2*i), 2, 1, linewidth=1, edgecolor='b', facecolor='r', fill=True))\n",
    "\n",
    "ani = matplotlib.animation.FuncAnimation(fig, animate, frames=len(objects_dims), interval=1000)"
   ]
  },
  {
   "cell_type": "code",
   "execution_count": null,
   "metadata": {},
   "outputs": [],
   "source": [
    "# rectangles = [r1, r2, r3, r4, r5] \n",
    "\n",
    "# current_height = 15\n",
    "\n",
    "# fig, ax = plt.subplots(figsize=(5,5))\n",
    "# ax.set_xlim([0, width])\n",
    "# ax.set_ylim([0, current_height])\n",
    "\n",
    "# def animate(i):\n",
    "#     r = patches.Rectangle((rectangles[i].x, rectangles[i].y), \\\n",
    "#                             rectangles[i].width, rectangles[i].height, \\\n",
    "#                             linewidth=1, edgecolor='black', facecolor='r', fill=True)\n",
    "#     ax.add_patch(r)\n",
    "#     rx, ry = r.get_xy()\n",
    "#     cx = rx + r.get_width()/2.0\n",
    "#     cy = ry + r.get_height()/2.0\n",
    "#     ax.annotate(rectangles[i].name, (cx, cy), color='w', weight='bold', fontsize=6, ha='center', va='center')\n",
    "\n",
    "# ani = matplotlib.animation.FuncAnimation(fig, animate, frames=len(objects_dims), interval=1000)"
   ]
  }
 ],
 "metadata": {
  "kernelspec": {
   "display_name": "Python 3",
   "language": "python",
   "name": "python3"
  },
  "language_info": {
   "codemirror_mode": {
    "name": "ipython",
    "version": 3
   },
   "file_extension": ".py",
   "mimetype": "text/x-python",
   "name": "python",
   "nbconvert_exporter": "python",
   "pygments_lexer": "ipython3",
   "version": "3.7.4"
  }
 },
 "nbformat": 4,
 "nbformat_minor": 2
}
